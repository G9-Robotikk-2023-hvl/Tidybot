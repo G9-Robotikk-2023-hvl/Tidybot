{
 "cells": [
  {
   "cell_type": "markdown",
   "metadata": {},
   "source": [
    "Oppgave 1)"
   ]
  },
  {
   "cell_type": "markdown",
   "metadata": {},
   "source": [
    "1.1)"
   ]
  },
  {
   "cell_type": "code",
   "execution_count": 49,
   "metadata": {},
   "outputs": [
    {
     "name": "stdout",
     "output_type": "stream",
     "text": [
      "T: 0 to 1\n"
     ]
    },
    {
     "data": {
      "text/plain": [
       "  \u001b[38;5;1m 1       \u001b[0m \u001b[38;5;1m 0       \u001b[0m \u001b[38;5;4ml_1         \u001b[0m  \u001b[0m\n",
       "  \u001b[38;5;1m 0       \u001b[0m \u001b[38;5;1m 1       \u001b[0m \u001b[38;5;4ml_2         \u001b[0m  \u001b[0m\n",
       "  \u001b[38;5;244m 0       \u001b[0m \u001b[38;5;244m 0       \u001b[0m \u001b[38;5;244m 1       \u001b[0m  \u001b[0m\n"
      ]
     },
     "metadata": {},
     "output_type": "display_data"
    }
   ],
   "source": [
    "import spatialmath as spm\n",
    "import sympy as sp\n",
    "\n",
    "l1,l2,th,l3 = sp.symbols(\"l_1,l_2,theta,l_3\")\n",
    "\n",
    "t1 = spm.SE2(x=l1,y=l2)\n",
    "\n",
    "print(\"T: 0 to 1\")\n",
    "display(t1)"
   ]
  },
  {
   "cell_type": "code",
   "execution_count": 50,
   "metadata": {},
   "outputs": [
    {
     "name": "stdout",
     "output_type": "stream",
     "text": [
      "T: 1 to 2\n"
     ]
    },
    {
     "data": {
      "text/plain": [
       "  \u001b[38;5;1mcos(theta)  \u001b[0m \u001b[38;5;1m-sin(theta) \u001b[0m \u001b[38;5;4ml_3*cos(theta)\u001b[0m  \u001b[0m\n",
       "  \u001b[38;5;1msin(theta)  \u001b[0m \u001b[38;5;1mcos(theta)  \u001b[0m \u001b[38;5;4ml_3*sin(theta)\u001b[0m  \u001b[0m\n",
       "  \u001b[38;5;244m 0       \u001b[0m \u001b[38;5;244m 0       \u001b[0m \u001b[38;5;244m1           \u001b[0m  \u001b[0m\n"
      ]
     },
     "metadata": {},
     "output_type": "display_data"
    }
   ],
   "source": [
    "r1 = spm.SE2(th)\n",
    "t2 = spm.SE2(x=l3,y=0)\n",
    "\n",
    "print(\"T: 1 to 2\")\n",
    "display(r1*t2)"
   ]
  },
  {
   "cell_type": "markdown",
   "metadata": {},
   "source": [
    "1.2)"
   ]
  },
  {
   "cell_type": "code",
   "execution_count": 55,
   "metadata": {},
   "outputs": [
    {
     "name": "stdout",
     "output_type": "stream",
     "text": [
      "T: 0 to 2\n"
     ]
    },
    {
     "data": {
      "text/plain": [
       "  \u001b[38;5;1mcos(theta)  \u001b[0m \u001b[38;5;1m-sin(theta) \u001b[0m \u001b[38;5;4ml_1 + l_3*cos(theta)\u001b[0m  \u001b[0m\n",
       "  \u001b[38;5;1msin(theta)  \u001b[0m \u001b[38;5;1mcos(theta)  \u001b[0m \u001b[38;5;4ml_2 + l_3*sin(theta)\u001b[0m  \u001b[0m\n",
       "  \u001b[38;5;244m0           \u001b[0m \u001b[38;5;244m0           \u001b[0m \u001b[38;5;244m1           \u001b[0m  \u001b[0m\n"
      ]
     },
     "metadata": {},
     "output_type": "display_data"
    }
   ],
   "source": [
    "print(\"T: 0 to 2\")\n",
    "display(t1*(r1*t2))"
   ]
  },
  {
   "cell_type": "markdown",
   "metadata": {},
   "source": [
    "1.3)"
   ]
  },
  {
   "cell_type": "code",
   "execution_count": 59,
   "metadata": {},
   "outputs": [
    {
     "name": "stdout",
     "output_type": "stream",
     "text": [
      "x = l_1 + l_3*cos(theta)\n",
      "y = l_2 + l_3*sin(theta)\n"
     ]
    }
   ],
   "source": [
    "print(\"x = l_1 + l_3*cos(theta)\")\n",
    "print(\"y = l_2 + l_3*sin(theta)\")"
   ]
  },
  {
   "cell_type": "markdown",
   "metadata": {},
   "source": [
    "1.4)"
   ]
  },
  {
   "cell_type": "markdown",
   "metadata": {},
   "source": []
  },
  {
   "cell_type": "markdown",
   "metadata": {},
   "source": [
    "1.5)"
   ]
  },
  {
   "cell_type": "markdown",
   "metadata": {},
   "source": [
    "nei. eller, jo nja kansje. sist jeg sjekka så fikk vi da  \n",
    "uendelig mange løsninger og trenger da å bestemme en verdi  \n",
    "for den ukjente for å kunne løse ligningen.\n",
    "\n",
    "det er jo strengt tatt mulig, men det må i så fall tast høyde for i programmvaren."
   ]
  },
  {
   "cell_type": "markdown",
   "metadata": {},
   "source": [
    "Oppgave 2)"
   ]
  },
  {
   "cell_type": "markdown",
   "metadata": {},
   "source": [
    "Oppgave 3)"
   ]
  },
  {
   "cell_type": "markdown",
   "metadata": {},
   "source": [
    "Denne oppgaven handler om  \n",
    "robotarmkinematikk. Du får en 4-DOF RPRProbot. Dette betyr at roboten har 4 ledd, og  \n",
    "spesifikasjonene for leddene er J1=roterende,  \n",
    "J2=prismatisk, J3=roterende, J4=prismatisk.  \n",
    "Figurene av roboten under er vist når  \n",
    "leddvinklene er:  \n",
    "\n",
    "$$[J1 = 0 grader, J2 = 0,5 m, J3 = 0 grader, J4 = 0,5\n",
    "m]$$\n",
    "\n",
    "og leddforskyvningene er\n",
    "\n",
    "$$[J1 = 0 grader, J2 = 1,3 m, J3 = 0 grader, J4 = 0,3\n",
    "m]$$\n",
    "\n",
    "Begge figurene viser samme konfigurasjon  \n",
    "gjennom to ulike synsvinkler. Figur til venstre  \n",
    "viser ledd-buene, og figur til høyre viser de  \n",
    "respektive leddaksene.  \n",
    "Verdiene på venstre figur er:  \n",
    "\n",
    "$$𝑙𝑙1 = 1.0, 𝑙𝑙2 = 0.5, 𝑙𝑙3 = 1.3, 𝑙𝑙4 = 1.0, 𝑙𝑙5 =\n",
    "0.5, 𝑙𝑙6 = 0.3$$"
   ]
  },
  {
   "cell_type": "markdown",
   "metadata": {},
   "source": [
    "3.1)"
   ]
  },
  {
   "cell_type": "markdown",
   "metadata": {},
   "source": [
    "| Link ($i$) | $\\Theta_𝑖$ | $𝑑_𝑖$  | $𝑎_𝑖$ | $\\alpha_𝑖$       |\n",
    "| ---------- | ---------  | ----- | ----- | --------------- |\n",
    "| 1          | $J_1$      | $l_1$ | $0$   | $\\frac{\\pi}{2}$ |\n",
    "| 2          |            |       |       | $\\frac{\\pi}{2}$ |\n",
    "| 3          |            |       |       | $0$             |\n",
    "| 4          |            |       |       | $0$             |\n"
   ]
  }
 ],
 "metadata": {
  "kernelspec": {
   "display_name": "Tidybot",
   "language": "python",
   "name": "python3"
  },
  "language_info": {
   "codemirror_mode": {
    "name": "ipython",
    "version": 3
   },
   "file_extension": ".py",
   "mimetype": "text/x-python",
   "name": "python",
   "nbconvert_exporter": "python",
   "pygments_lexer": "ipython3",
   "version": "3.12.0"
  }
 },
 "nbformat": 4,
 "nbformat_minor": 2
}
